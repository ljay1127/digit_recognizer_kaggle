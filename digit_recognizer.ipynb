{
 "cells": [
  {
   "cell_type": "code",
   "execution_count": 220,
   "metadata": {},
   "outputs": [],
   "source": [
    "import pandas as pd\n",
    "import numpy as np\n",
    "import matplotlib.pyplot as plt\n",
    "\n",
    "from sklearn.model_selection import train_test_split\n",
    "from sklearn.metrics import accuracy_score\n",
    "\n",
    "import tensorflow as tf\n",
    "from tensorflow.keras import Model\n",
    "from tensorflow.keras.optimizers import Adam\n",
    "from tensorflow.keras.losses import MeanSquaredError\n",
    "from tensorflow.keras.layers import Conv2D, MaxPool2D, Dense, Input, Flatten"
   ]
  },
  {
   "cell_type": "code",
   "execution_count": 221,
   "metadata": {},
   "outputs": [],
   "source": [
    "def load_data_csv(filename):\n",
    "    return pd.read_csv(filename)"
   ]
  },
  {
   "cell_type": "code",
   "execution_count": 222,
   "metadata": {},
   "outputs": [],
   "source": [
    "def create_image_from_row(X):\n",
    "    x = X.to_list()\n",
    "    return_value = np.zeros((28, 28, 1))\n",
    "    \n",
    "    data = 0\n",
    "    for i in range(28):\n",
    "        for j in range(28):\n",
    "            return_value[i, j, 0] = x[data] / 255\n",
    "            data += 1\n",
    "    \n",
    "    return return_value"
   ]
  },
  {
   "cell_type": "code",
   "execution_count": 223,
   "metadata": {},
   "outputs": [],
   "source": [
    "def create_x(df):\n",
    "    rows = df.shape[0]\n",
    "    x = []\n",
    "    for i in range(rows):\n",
    "        x.append(create_image_from_row(df.iloc[i,:]))\n",
    "    X = np.array(x)\n",
    "    return X"
   ]
  },
  {
   "cell_type": "code",
   "execution_count": 224,
   "metadata": {},
   "outputs": [],
   "source": [
    "def create_y(df):\n",
    "    y = []\n",
    "    data = df.to_list()\n",
    "    \n",
    "    for i in data:\n",
    "        new_data = [0, 0, 0, 0, 0, 0, 0, 0, 0, 0]\n",
    "        \n",
    "        if i == 0:\n",
    "            new_data[0] = 1\n",
    "        elif i == 1:\n",
    "            new_data[1] = 1\n",
    "        elif i == 2:\n",
    "            new_data[2] = 1\n",
    "        elif i == 3:\n",
    "            new_data[3] = 1\n",
    "        elif i == 4:\n",
    "            new_data[4] = 1\n",
    "        elif i == 5:\n",
    "            new_data[5] = 1\n",
    "        elif i == 6:\n",
    "            new_data[6] = 1\n",
    "        elif i == 7:\n",
    "            new_data[7] = 1\n",
    "        elif i == 8:\n",
    "            new_data[8] = 1\n",
    "        elif i == 9:\n",
    "            new_data[9] = 1\n",
    "        y.append(new_data)\n",
    "        \n",
    "    return np.array(y)"
   ]
  },
  {
   "cell_type": "code",
   "execution_count": 225,
   "metadata": {},
   "outputs": [],
   "source": [
    "def split_x_y(df):\n",
    "    y = df['label']\n",
    "    x = df.drop(columns='label')\n",
    "    return x,y"
   ]
  },
  {
   "cell_type": "code",
   "execution_count": 226,
   "metadata": {},
   "outputs": [],
   "source": [
    "def create_model():\n",
    "    inputs = Input(shape=(28,28,1))\n",
    "    x = Conv2D(filters=64, kernel_size=(2,2), strides=(1,1), padding='same', activation='relu')(inputs)\n",
    "    x = MaxPool2D(pool_size=(2,2), strides=(1,1), padding='same')(x)\n",
    "    x = Conv2D(filters=64, kernel_size=(2,2), strides=(1,1), padding='same', activation='relu')(x)\n",
    "    x = Flatten()(x)\n",
    "    x = Dense(512, activation='relu')(x)\n",
    "    outputs = Dense(10, activation='softmax')(x)\n",
    "    \n",
    "    model = Model(inputs=[inputs], outputs=[outputs])\n",
    "    model.compile(optimizer=Adam(lr=0.0001), loss='mse')\n",
    "    \n",
    "    return model"
   ]
  },
  {
   "cell_type": "code",
   "execution_count": 227,
   "metadata": {},
   "outputs": [],
   "source": [
    "def reformat_y(data):\n",
    "    y = []\n",
    "    rows = data.shape[0]\n",
    "    \n",
    "    for i in range(rows):\n",
    "        y.append(\n",
    "            np.argmax(data[i, :])\n",
    "        )\n",
    "        \n",
    "    return np.array(y)"
   ]
  },
  {
   "cell_type": "markdown",
   "metadata": {},
   "source": [
    "# TRAIN"
   ]
  },
  {
   "cell_type": "code",
   "execution_count": 228,
   "metadata": {},
   "outputs": [],
   "source": [
    "df = load_data_csv('train.csv')\n",
    "x, y = split_x_y(df)\n",
    "X = create_x(x)\n",
    "Y = create_y(y)\n",
    "X_train, X_test, y_train, y_test = train_test_split(X, Y, test_size = 0.2)"
   ]
  },
  {
   "cell_type": "code",
   "execution_count": 229,
   "metadata": {},
   "outputs": [
    {
     "data": {
      "text/plain": [
       "(42000, 28, 28, 1)"
      ]
     },
     "execution_count": 229,
     "metadata": {},
     "output_type": "execute_result"
    }
   ],
   "source": [
    "X.shape"
   ]
  },
  {
   "cell_type": "code",
   "execution_count": 230,
   "metadata": {},
   "outputs": [],
   "source": [
    "model = create_model()"
   ]
  },
  {
   "cell_type": "code",
   "execution_count": 231,
   "metadata": {},
   "outputs": [
    {
     "name": "stdout",
     "output_type": "stream",
     "text": [
      "Epoch 1/30\n",
      "1050/1050 [==============================] - 394s 375ms/step - loss: 0.0198\n",
      "Epoch 2/30\n",
      "1050/1050 [==============================] - 397s 378ms/step - loss: 0.0037\n",
      "Epoch 3/30\n",
      "1050/1050 [==============================] - 380s 362ms/step - loss: 0.0022\n",
      "Epoch 4/30\n",
      "1050/1050 [==============================] - 323s 308ms/step - loss: 0.0016\n",
      "Epoch 5/30\n",
      "1050/1050 [==============================] - 323s 308ms/step - loss: 0.0011\n",
      "Epoch 6/30\n",
      "1050/1050 [==============================] - 322s 307ms/step - loss: 9.1152e-04\n",
      "Epoch 7/30\n",
      "1050/1050 [==============================] - 320s 304ms/step - loss: 7.0698e-04\n",
      "Epoch 8/30\n",
      "1050/1050 [==============================] - 324s 308ms/step - loss: 5.5126e-04\n",
      "Epoch 9/30\n",
      "1050/1050 [==============================] - 327s 311ms/step - loss: 4.3397e-04\n",
      "Epoch 10/30\n",
      "1050/1050 [==============================] - 369s 352ms/step - loss: 3.7009e-04\n",
      "Epoch 11/30\n",
      "1050/1050 [==============================] - 339s 323ms/step - loss: 3.5326e-04\n",
      "Epoch 12/30\n",
      "1050/1050 [==============================] - 322s 306ms/step - loss: 3.7719e-04\n",
      "Epoch 13/30\n",
      "1050/1050 [==============================] - 357s 340ms/step - loss: 3.8086e-04\n",
      "Epoch 14/30\n",
      "1050/1050 [==============================] - 390s 372ms/step - loss: 4.0650e-04\n",
      "Epoch 15/30\n",
      "1050/1050 [==============================] - 334s 318ms/step - loss: 1.9810e-04\n",
      "Epoch 16/30\n",
      "1050/1050 [==============================] - 334s 318ms/step - loss: 3.8954e-04\n",
      "Epoch 17/30\n",
      "1050/1050 [==============================] - 333s 317ms/step - loss: 2.7006e-04\n",
      "Epoch 18/30\n",
      "1050/1050 [==============================] - 337s 321ms/step - loss: 2.1539e-04\n",
      "Epoch 19/30\n",
      "1050/1050 [==============================] - 337s 321ms/step - loss: 2.6090e-04\n",
      "Epoch 20/30\n",
      "1050/1050 [==============================] - 335s 319ms/step - loss: 2.2341e-04\n",
      "Epoch 21/30\n",
      "1050/1050 [==============================] - 336s 320ms/step - loss: 1.8238e-04\n",
      "Epoch 22/30\n",
      "1050/1050 [==============================] - 335s 319ms/step - loss: 2.4064e-04\n",
      "Epoch 23/30\n",
      "1050/1050 [==============================] - 350s 333ms/step - loss: 2.1199e-04\n",
      "Epoch 24/30\n",
      "1050/1050 [==============================] - 365s 348ms/step - loss: 1.2521e-04\n",
      "Epoch 25/30\n",
      "1050/1050 [==============================] - 409s 390ms/step - loss: 1.8860e-04\n",
      "Epoch 26/30\n",
      "1050/1050 [==============================] - 492s 469ms/step - loss: 2.1410e-04\n",
      "Epoch 27/30\n",
      "1050/1050 [==============================] - 515s 491ms/step - loss: 1.0792e-04\n",
      "Epoch 28/30\n",
      "1050/1050 [==============================] - 340s 324ms/step - loss: 1.6968e-04\n",
      "Epoch 29/30\n",
      "1050/1050 [==============================] - 341s 325ms/step - loss: 1.4221e-04\n",
      "Epoch 30/30\n",
      "1050/1050 [==============================] - 340s 324ms/step - loss: 1.4595e-04\n"
     ]
    },
    {
     "data": {
      "text/plain": [
       "<tensorflow.python.keras.callbacks.History at 0x7ff3531e74c0>"
      ]
     },
     "execution_count": 231,
     "metadata": {},
     "output_type": "execute_result"
    }
   ],
   "source": [
    "model.fit(X_train, y_train, verbose=1, epochs=30, batch_size=32)"
   ]
  },
  {
   "cell_type": "code",
   "execution_count": 232,
   "metadata": {},
   "outputs": [],
   "source": [
    "y_pred = model.predict(X_test)"
   ]
  },
  {
   "cell_type": "code",
   "execution_count": 233,
   "metadata": {},
   "outputs": [
    {
     "data": {
      "text/plain": [
       "0.9901190476190476"
      ]
     },
     "execution_count": 233,
     "metadata": {},
     "output_type": "execute_result"
    }
   ],
   "source": [
    "orig_y = reformat_y(y_test)\n",
    "my_y = reformat_y(y_pred)\n",
    "\n",
    "accuracy_score(orig_y, my_y)"
   ]
  },
  {
   "cell_type": "markdown",
   "metadata": {},
   "source": [
    "# TEST"
   ]
  },
  {
   "cell_type": "code",
   "execution_count": 234,
   "metadata": {},
   "outputs": [],
   "source": [
    "df = load_data_csv('test.csv')\n",
    "X = create_x(df)\n",
    "y_pred = model.predict(X)\n",
    "y_pred = reformat_y(y_pred)"
   ]
  },
  {
   "cell_type": "code",
   "execution_count": 235,
   "metadata": {},
   "outputs": [],
   "source": [
    "# CREATE DICTIONARY FOR DATAFRAME\n",
    "dataframe_dictionary = {\n",
    "    'ImageId': range(1, df.shape[0] + 1),\n",
    "    'Label': y_pred\n",
    "}\n",
    "\n",
    "# CREATE DATAFRAME\n",
    "submission_df = pd.DataFrame(dataframe_dictionary, index=None)\n",
    "submission_df.to_csv('submission.csv', index=None)"
   ]
  },
  {
   "cell_type": "code",
   "execution_count": null,
   "metadata": {},
   "outputs": [],
   "source": []
  }
 ],
 "metadata": {
  "kernelspec": {
   "display_name": "Python 3",
   "language": "python",
   "name": "python3"
  },
  "language_info": {
   "codemirror_mode": {
    "name": "ipython",
    "version": 3
   },
   "file_extension": ".py",
   "mimetype": "text/x-python",
   "name": "python",
   "nbconvert_exporter": "python",
   "pygments_lexer": "ipython3",
   "version": "3.8.5"
  }
 },
 "nbformat": 4,
 "nbformat_minor": 4
}
